{
 "cells": [
  {
   "cell_type": "code",
   "execution_count": 26,
   "metadata": {},
   "outputs": [
    {
     "name": "stdout",
     "output_type": "stream",
     "text": [
      "3.7.7\n"
     ]
    }
   ],
   "source": [
    "# Code based on Book: Build Your Own AI Investor\n",
    "# Damon Lee 2020\n",
    "# Check out the performance on www.valueinvestingai.com, ai-investor.net\n",
    "# Code uses bulk download data from the (presumably) nice people at https://simfin.com/.\n",
    "\n",
    "from matplotlib import pyplot as plt\n",
    "import pandas as pd\n",
    "import numpy as np\n",
    "import math\n",
    "\n",
    "from platform import python_version\n",
    "print(python_version())"
   ]
  },
  {
   "cell_type": "markdown",
   "metadata": {},
   "source": [
    "# 1. Get The Stock Fundamental Data\n",
    "Differs slightly from part 1, as includes balance sheet this time.\n",
    "(Income Statement as well as Balance Sheet)"
   ]
  },
  {
   "cell_type": "code",
   "execution_count": 27,
   "metadata": {},
   "outputs": [],
   "source": [
    "# Get the stock income statement data from SimFin.com bulk download\n",
    "def getXData():\n",
    "    a=pd.read_csv('us-income-annual.csv', delimiter=';')\n",
    "    print('Income Statement CSV is: ', a.shape)\n",
    "    b=pd.read_csv('us-balance-annual.csv', delimiter=';')\n",
    "    print('Balance Sheet CSV is: ', b.shape)\n",
    "    c = pd.merge(a, b, on=['Ticker','SimFinId','Currency','Fiscal Year','Report Date','Publish Date'])\n",
    "    c[\"Report Date\"] = pd.to_datetime(c[\"Report Date\"])\n",
    "    c[\"Publish Date\"] = pd.to_datetime(c[\"Publish Date\"])\n",
    "    return c"
   ]
  },
  {
   "cell_type": "code",
   "execution_count": 28,
   "metadata": {},
   "outputs": [
    {
     "name": "stdout",
     "output_type": "stream",
     "text": [
      "Income Statement CSV is:  (17771, 28)\n",
      "Balance Sheet CSV is:  (17771, 30)\n"
     ]
    }
   ],
   "source": [
    "x = getXData()"
   ]
  },
  {
   "cell_type": "code",
   "execution_count": 29,
   "metadata": {},
   "outputs": [
    {
     "data": {
      "text/plain": [
       "Index(['Ticker', 'SimFinId', 'Currency', 'Fiscal Year', 'Fiscal Period_x',\n",
       "       'Report Date', 'Publish Date', 'Restated Date_x', 'Shares (Basic)_x',\n",
       "       'Shares (Diluted)_x', 'Revenue', 'Cost of Revenue', 'Gross Profit',\n",
       "       'Operating Expenses', 'Selling, General & Administrative',\n",
       "       'Research & Development', 'Depreciation & Amortization',\n",
       "       'Operating Income (Loss)', 'Non-Operating Income (Loss)',\n",
       "       'Interest Expense, Net', 'Pretax Income (Loss), Adj.',\n",
       "       'Abnormal Gains (Losses)', 'Pretax Income (Loss)',\n",
       "       'Income Tax (Expense) Benefit, Net',\n",
       "       'Income (Loss) from Continuing Operations',\n",
       "       'Net Extraordinary Gains (Losses)', 'Net Income', 'Net Income (Common)',\n",
       "       'Fiscal Period_y', 'Restated Date_y', 'Shares (Basic)_y',\n",
       "       'Shares (Diluted)_y', 'Cash, Cash Equivalents & Short Term Investments',\n",
       "       'Accounts & Notes Receivable', 'Inventories', 'Total Current Assets',\n",
       "       'Property, Plant & Equipment, Net',\n",
       "       'Long Term Investments & Receivables', 'Other Long Term Assets',\n",
       "       'Total Noncurrent Assets', 'Total Assets', 'Payables & Accruals',\n",
       "       'Short Term Debt', 'Total Current Liabilities', 'Long Term Debt',\n",
       "       'Total Noncurrent Liabilities', 'Total Liabilities',\n",
       "       'Share Capital & Additional Paid-In Capital', 'Treasury Stock',\n",
       "       'Retained Earnings', 'Total Equity', 'Total Liabilities & Equity'],\n",
       "      dtype='object')"
      ]
     },
     "execution_count": 29,
     "metadata": {},
     "output_type": "execute_result"
    }
   ],
   "source": [
    "x.keys()"
   ]
  },
  {
   "cell_type": "markdown",
   "metadata": {},
   "source": [
    "# 2. Get the Stock Performance Data From Part 2\n",
    "Running the getYPricesReportDateAndTargetDate() function from the previous notebook would take awhile. Luckily we saved the result, so we can just load it again."
   ]
  },
  {
   "cell_type": "code",
   "execution_count": 30,
   "metadata": {},
   "outputs": [],
   "source": [
    "# Get the daily share price data from SimFin.com bulk download\n",
    "def getYRawData():\n",
    "    d=pd.read_csv('us-shareprices-daily.csv', delimiter=';')\n",
    "    d[\"Date\"]=pd.to_datetime(d[\"Date\"])\n",
    "    print('Stock Price data matrix is: ',d.shape)\n",
    "    return d\n",
    "\n",
    "\n",
    "# Return just the price and volume near date (as have imperfect data).\n",
    "# Want the volume data returned, to remove stocks with near 0 volume later.\n",
    "# d is just the raw daily stock price data\n",
    "# Modifier modifies the date to look between.\n",
    "def getYPriceDataNearDate(ticker, date, modifier, d):\n",
    "    windowDays=5\n",
    "    rows = \\\n",
    "    d[(d[\"Date\"].between(pd.to_datetime(date) + pd.Timedelta(days=modifier),\\\n",
    "       pd.to_datetime(date) + pd.Timedelta(days=windowDays+modifier))) \\\n",
    "      & (d[\"Ticker\"]==ticker)]\n",
    "    if rows.empty:\n",
    "        return [ticker, np.float(\"NaN\"),\\\n",
    "                np.datetime64('NaT'),\\\n",
    "                np.float(\"NaN\")]\n",
    "    else:\n",
    "        return [ticker, rows.iloc[0][\"Open\"],\\\n",
    "                rows.iloc[0][\"Date\"],\\\n",
    "                rows.iloc[0][\"Volume\"]*rows.iloc[0][\"Open\"]]\n",
    "        #take the first item of the list of days that fall in the window of accepted days.\n",
    "        \n",
    "\n",
    "        \n",
    "# Modifier is effectively the hold period for a stock (here it is 1 year)\n",
    "# x is the vector of company data\n",
    "# d is the raw daily stock price data data (stock price and date for all days)\n",
    "def getYPricesReportDateAndTargetDate(x, d, modifier=365):\n",
    "    i=0\n",
    "    # Preallocation list of list of 2 \\\n",
    "    # [(price at date) (price at date + modifier)]\n",
    "    y = [[None]*8 for i in range(len(x))] \n",
    "    \n",
    "    whichDateCol='Publish Date' # is the performance date from->to. Want this to be publish date.\n",
    "    \n",
    "    # Because of time lag between report date\\\n",
    "    # (which can't be actioned on) and publish date\\\n",
    "    # (data we can trade with)\n",
    "    for index in range(len(x)):\n",
    "        y[i]=(getYPriceDataNearDate(\\\n",
    "            x['Ticker'].iloc[index], x[whichDateCol].iloc[index], 0, d) + \\\n",
    "              getYPriceDataNearDate(\\\n",
    "            x['Ticker'].iloc[index], x[whichDateCol].iloc[index], modifier, d))\n",
    "        i=i+1\n",
    "    return y"
   ]
  },
  {
   "cell_type": "code",
   "execution_count": 31,
   "metadata": {},
   "outputs": [
    {
     "name": "stdout",
     "output_type": "stream",
     "text": [
      "Stock Price data matrix is:  (5884948, 11)\n"
     ]
    }
   ],
   "source": [
    "# We want to know the performance for each stock, each year, between 10-K report dates.\n",
    "# takes VERY long time, several hours.\n",
    "d = getYRawData()\n",
    "y = getYPricesReportDateAndTargetDate(x, d, 365) # because of lookups in this function.\n",
    "y = pd.DataFrame(y, columns=['Ticker', 'Open Price', 'Date', 'Volume', 'Ticker2', 'Open Price2', 'Date2', 'Volume2'])"
   ]
  },
  {
   "cell_type": "code",
   "execution_count": 32,
   "metadata": {},
   "outputs": [],
   "source": [
    "y.to_csv(\"Annual_Stock_Price_Performance_.csv\")\n",
    "#y = pd.read_csv(\"Annual_Stock_Price_Performance_.csv\", index_col=0)"
   ]
  },
  {
   "cell_type": "markdown",
   "metadata": {},
   "source": [
    "# 3. Filter Down the Data, Create a P/S Column\n",
    "Due to imperfect data etc."
   ]
  },
  {
   "cell_type": "code",
   "execution_count": 37,
   "metadata": {},
   "outputs": [],
   "source": [
    "# Issue where no share price\n",
    "bool_list = ~y[\"Open Price\"].isnull()\n",
    "y=y[bool_list]\n",
    "x=x[bool_list]\n",
    "\n",
    "# Issues where no listed number of shares\n",
    "bool_list = ~x['Shares (Diluted)_x'].isnull()\n",
    "y=y[bool_list]\n",
    "x=x[bool_list]\n",
    "\n",
    "# Issue where there is low/no volume\n",
    "bool_list =   ~((y['Volume']<1e4) | (y['Volume2']<1e4))\n",
    "y=y[bool_list]\n",
    "x=x[bool_list]\n",
    "\n",
    "# Issue where dates missing (Removes latest data too, which we can't use)\n",
    "bool_list = ~y[\"Date2\"].isnull()\n",
    "y=y[bool_list]\n",
    "x=x[bool_list]\n",
    "               \n",
    "y=y.reset_index(drop=True)\n",
    "x=x.reset_index(drop=True)"
   ]
  },
  {
   "cell_type": "code",
   "execution_count": 38,
   "metadata": {},
   "outputs": [],
   "source": [
    "# Create Market Cap Column\n",
    "x[\"Market Cap\"] = y[\"Open Price\"]*x[\"Shares (Diluted)_x\"]"
   ]
  },
  {
   "cell_type": "code",
   "execution_count": 39,
   "metadata": {},
   "outputs": [
    {
     "name": "stdout",
     "output_type": "stream",
     "text": [
      "(13866, 53)\n",
      "(13866, 8)\n"
     ]
    }
   ],
   "source": [
    "print(x.shape)\n",
    "print(y.shape)"
   ]
  },
  {
   "cell_type": "code",
   "execution_count": 40,
   "metadata": {},
   "outputs": [],
   "source": [
    "def fixNansInX():\n",
    "    x.loc[x[\"Revenue\"].isnull(), \"Revenue\"]=0\n",
    "            \n",
    "def maxMinRatio(m, text, max, min):\n",
    "    m.loc[x[text]>max,text]=max\n",
    "    m.loc[x[text]<min,text]=min\n",
    "            \n",
    "def getYPerf(y):\n",
    "    y_perf=pd.DataFrame()\n",
    "    y_perf[\"Ticker\"] = y[\"Ticker\"]\n",
    "    y_perf[\"Perf\"]=(y[\"Open Price2\"]-y[\"Open Price\"])/y[\"Open Price\"]\n",
    "    y_perf[y_perf[\"Perf\"].isnull()]=0 #y.fillna(0)\n",
    "    return y_perf"
   ]
  },
  {
   "cell_type": "code",
   "execution_count": 41,
   "metadata": {},
   "outputs": [],
   "source": [
    "fixNansInX()\n",
    "x[\"P/S\"] = x[\"Market Cap\"] / x[\"Revenue\"] \n",
    "maxMinRatio(x, \"P/S\", 1e5, 0) # Remove Infinities\n",
    "\n",
    "y_perf = getYPerf(y)"
   ]
  },
  {
   "cell_type": "code",
   "execution_count": 76,
   "metadata": {},
   "outputs": [
    {
     "data": {
      "text/html": [
       "<div>\n",
       "<style scoped>\n",
       "    .dataframe tbody tr th:only-of-type {\n",
       "        vertical-align: middle;\n",
       "    }\n",
       "\n",
       "    .dataframe tbody tr th {\n",
       "        vertical-align: top;\n",
       "    }\n",
       "\n",
       "    .dataframe thead th {\n",
       "        text-align: right;\n",
       "    }\n",
       "</style>\n",
       "<table border=\"1\" class=\"dataframe\">\n",
       "  <thead>\n",
       "    <tr style=\"text-align: right;\">\n",
       "      <th></th>\n",
       "      <th>Ticker</th>\n",
       "      <th>Perf</th>\n",
       "    </tr>\n",
       "  </thead>\n",
       "  <tbody>\n",
       "    <tr>\n",
       "      <th>0</th>\n",
       "      <td>A</td>\n",
       "      <td>0.936104</td>\n",
       "    </tr>\n",
       "    <tr>\n",
       "      <th>1</th>\n",
       "      <td>A</td>\n",
       "      <td>0.373311</td>\n",
       "    </tr>\n",
       "    <tr>\n",
       "      <th>2</th>\n",
       "      <td>A</td>\n",
       "      <td>-0.036180</td>\n",
       "    </tr>\n",
       "    <tr>\n",
       "      <th>3</th>\n",
       "      <td>A</td>\n",
       "      <td>0.185295</td>\n",
       "    </tr>\n",
       "    <tr>\n",
       "      <th>4</th>\n",
       "      <td>A</td>\n",
       "      <td>0.416215</td>\n",
       "    </tr>\n",
       "    <tr>\n",
       "      <th>...</th>\n",
       "      <td>...</td>\n",
       "      <td>...</td>\n",
       "    </tr>\n",
       "    <tr>\n",
       "      <th>13861</th>\n",
       "      <td>low</td>\n",
       "      <td>0.018521</td>\n",
       "    </tr>\n",
       "    <tr>\n",
       "      <th>13862</th>\n",
       "      <td>low</td>\n",
       "      <td>0.096215</td>\n",
       "    </tr>\n",
       "    <tr>\n",
       "      <th>13863</th>\n",
       "      <td>low</td>\n",
       "      <td>0.029423</td>\n",
       "    </tr>\n",
       "    <tr>\n",
       "      <th>13864</th>\n",
       "      <td>low</td>\n",
       "      <td>0.246709</td>\n",
       "    </tr>\n",
       "    <tr>\n",
       "      <th>13865</th>\n",
       "      <td>low</td>\n",
       "      <td>-0.377434</td>\n",
       "    </tr>\n",
       "  </tbody>\n",
       "</table>\n",
       "<p>13866 rows × 2 columns</p>\n",
       "</div>"
      ],
      "text/plain": [
       "      Ticker      Perf\n",
       "0          A  0.936104\n",
       "1          A  0.373311\n",
       "2          A -0.036180\n",
       "3          A  0.185295\n",
       "4          A  0.416215\n",
       "...      ...       ...\n",
       "13861    low  0.018521\n",
       "13862    low  0.096215\n",
       "13863    low  0.029423\n",
       "13864    low  0.246709\n",
       "13865    low -0.377434\n",
       "\n",
       "[13866 rows x 2 columns]"
      ]
     },
     "execution_count": 76,
     "metadata": {},
     "output_type": "execute_result"
    }
   ],
   "source": [
    "y_perf"
   ]
  },
  {
   "cell_type": "markdown",
   "metadata": {},
   "source": [
    "# 4. Altman Z Scores\n",
    "To account for bankruptcy risk we use Altman scores. The lower the score, the higher the probability of default.\n",
    "\n",
    "We need to calculate a few ratios from the stock fundamental data to compute the result.\n",
    "\n",
    "After that we create a new column containing the Z score, after which we can exclude any company with a low score."
   ]
  },
  {
   "cell_type": "code",
   "execution_count": 44,
   "metadata": {},
   "outputs": [],
   "source": [
    "x[\"EBIT\"] = x[\"Net Income\"] \\\n",
    "    - x[\"Interest Expense, Net\"] \\\n",
    "    - x[\"Income Tax (Expense) Benefit, Net\"]\n",
    "\n",
    "# Altman ratios \n",
    "x[\"(CA-CL)/TA\"] = (x[\"Total Current Assets\"]\\\n",
    "                   - x[\"Total Current Liabilities\"])\\\n",
    "                    /x[\"Total Assets\"]\n",
    "\n",
    "# RE/TA\n",
    "x[\"RE/TA\"] = x[\"Retained Earnings\"]/x[\"Total Assets\"]\n",
    "\n",
    "# EBIT/TA\n",
    "x[\"EBIT/TA\"] = x[\"EBIT\"]/x[\"Total Assets\"]\n",
    "\n",
    "# Book Equity/TL\n",
    "x[\"Book Equity/TL\"] = x[\"Total Equity\"]/x[\"Total Liabilities\"]"
   ]
  },
  {
   "cell_type": "code",
   "execution_count": 45,
   "metadata": {},
   "outputs": [],
   "source": [
    "# Calculate Altman Z'' scores 1995\n",
    "x['Z score'] = 3.25 \\\n",
    "+ 6.51 * x['(CA-CL)/TA']\\\n",
    "+ 3.26 * x['RE/TA']\\\n",
    "+ 6.72 * x['EBIT/TA']\\\n",
    "+ 1.05 * x['Book Equity/TL']"
   ]
  },
  {
   "cell_type": "code",
   "execution_count": 46,
   "metadata": {},
   "outputs": [
    {
     "data": {
      "text/plain": [
       "Index(['Ticker', 'SimFinId', 'Currency', 'Fiscal Year', 'Fiscal Period_x',\n",
       "       'Report Date', 'Publish Date', 'Restated Date_x', 'Shares (Basic)_x',\n",
       "       'Shares (Diluted)_x', 'Revenue', 'Cost of Revenue', 'Gross Profit',\n",
       "       'Operating Expenses', 'Selling, General & Administrative',\n",
       "       'Research & Development', 'Depreciation & Amortization',\n",
       "       'Operating Income (Loss)', 'Non-Operating Income (Loss)',\n",
       "       'Interest Expense, Net', 'Pretax Income (Loss), Adj.',\n",
       "       'Abnormal Gains (Losses)', 'Pretax Income (Loss)',\n",
       "       'Income Tax (Expense) Benefit, Net',\n",
       "       'Income (Loss) from Continuing Operations',\n",
       "       'Net Extraordinary Gains (Losses)', 'Net Income', 'Net Income (Common)',\n",
       "       'Fiscal Period_y', 'Restated Date_y', 'Shares (Basic)_y',\n",
       "       'Shares (Diluted)_y', 'Cash, Cash Equivalents & Short Term Investments',\n",
       "       'Accounts & Notes Receivable', 'Inventories', 'Total Current Assets',\n",
       "       'Property, Plant & Equipment, Net',\n",
       "       'Long Term Investments & Receivables', 'Other Long Term Assets',\n",
       "       'Total Noncurrent Assets', 'Total Assets', 'Payables & Accruals',\n",
       "       'Short Term Debt', 'Total Current Liabilities', 'Long Term Debt',\n",
       "       'Total Noncurrent Liabilities', 'Total Liabilities',\n",
       "       'Share Capital & Additional Paid-In Capital', 'Treasury Stock',\n",
       "       'Retained Earnings', 'Total Equity', 'Total Liabilities & Equity',\n",
       "       'Market Cap', 'P/S', '(CA-CL)/TA', 'RE/TA', 'EBIT', 'EBIT/TA',\n",
       "       'Book Equity/TL', 'Z score'],\n",
       "      dtype='object')"
      ]
     },
     "execution_count": 46,
     "metadata": {},
     "output_type": "execute_result"
    }
   ],
   "source": [
    "x.keys()"
   ]
  },
  {
   "cell_type": "markdown",
   "metadata": {},
   "source": [
    "# 5. Backtests"
   ]
  },
  {
   "cell_type": "code",
   "execution_count": 69,
   "metadata": {},
   "outputs": [],
   "source": [
    "def getBestStocksForYear(year, x): # Fiscal Year\n",
    "    return x[x['Fiscal Year']==year].nlargest(20, 'P/S').index\n",
    "\n",
    "def getBestStocksForYearAboveZScore(year, x, z_score): # Fiscal Year\n",
    "    bl=x['Z score']>= z_score\n",
    "    return x[bl][x[bl]['Fiscal Year']==year].nlargest(20, 'P/S').index"
   ]
  },
  {
   "cell_type": "code",
   "execution_count": 74,
   "metadata": {
    "scrolled": false
   },
   "outputs": [
    {
     "name": "stdout",
     "output_type": "stream",
     "text": [
      "Portfolio Return was:  0.31 for Fiscal Year:  2008\n",
      "LH Return:  0.17 Z score:  7.47\n",
      "V Return:  0.52 Z score:  6.42\n",
      "CELG Return:  0.07 Z score:  7.39\n",
      "FSLR Return:  -0.2 Z score:  10.07\n",
      "GILD Return:  -0.1 Z score:  10.82\n",
      "AMT Return:  0.37 Z score:  3.64\n",
      "BLK Return:  -0.03 Z score:  5.62\n",
      "VTR Return:  0.46 Z score:  4.34\n",
      "AKAM Return:  0.45 Z score:  5.57\n",
      "CME Return:  0.6 Z score:  6.66\n",
      "AMGN Return:  0.01 Z score:  7.03\n",
      "RRC Return:  0.59 Z score:  5.32\n",
      "FLIR Return:  0.28 Z score:  11.97\n",
      "BCR Return:  -0.08 Z score:  11.71\n",
      "ADBE Return:  0.74 Z score:  12.75\n",
      "CRM Return:  1.51 Z score:  5.9\n",
      "KO Return:  0.25 Z score:  8.58\n",
      "MCO Return:  0.19 Z score:  9.24\n",
      "ATVI Return:  0.04 Z score:  8.34\n",
      "COG Return:  0.4 Z score:  5.86\n",
      "------------------------------------------------------\n",
      "Portfolio Return was:  0.41 for Fiscal Year:  2009\n",
      "LH Return:  0.28 Z score:  7.51\n",
      "ODFL Return:  0.65 Z score:  6.3\n",
      "V Return:  0.03 Z score:  7.98\n",
      "Joe Return:  0.07 Z score:  9.76\n",
      "ALXN Return:  0.78 Z score:  12.06\n",
      "CLR Return:  0.65 Z score:  5.37\n",
      "CELG Return:  -0.09 Z score:  12.77\n",
      "AMT Return:  0.26 Z score:  3.84\n",
      "PXD Return:  0.11 Z score:  4.38\n",
      "RRC Return:  0.06 Z score:  4.36\n",
      "CAVM Return:  0.71 Z score:  7.19\n",
      "MELI Return:  0.89 Z score:  8.05\n",
      "VMW Return:  0.85 Z score:  7.52\n",
      "UTHR Return:  0.18 Z score:  4.87\n",
      "WELL Return:  0.19 Z score:  6.63\n",
      "SNH Return:  0.07 Z score:  3.98\n",
      "RHT Return:  0.49 Z score:  6.74\n",
      "ATHN Return:  0.04 Z score:  7.35\n",
      "ILMN Return:  0.89 Z score:  7.27\n",
      "CXO Return:  1.09 Z score:  4.07\n",
      "------------------------------------------------------\n",
      "Portfolio Return was:  0.14 for Fiscal Year:  2010\n",
      "LH Return:  -0.04 Z score:  6.98\n",
      "ODFL Return:  0.46 Z score:  7.01\n",
      "BSTC Return:  -0.22 Z score:  4.37\n",
      "Joe Return:  -0.4 Z score:  11.57\n",
      "V Return:  0.17 Z score:  8.77\n",
      "ALXN Return:  0.88 Z score:  12.46\n",
      "MELI Return:  0.38 Z score:  8.16\n",
      "TRC Return:  0.15 Z score:  31.23\n",
      "CLR Return:  0.22 Z score:  4.84\n",
      "VMW Return:  0.16 Z score:  7.8\n",
      "ILMN Return:  -0.28 Z score:  8.23\n",
      "AMT Return:  0.18 Z score:  4.29\n",
      "WELL Return:  0.18 Z score:  5.77\n",
      "CXO Return:  0.12 Z score:  4.64\n",
      "CAVM Return:  -0.13 Z score:  9.97\n",
      "PEB Return:  0.05 Z score:  7.94\n",
      "RHT Return:  0.29 Z score:  6.82\n",
      "LOGM Return:  0.01 Z score:  10.52\n",
      "CRM Return:  0.26 Z score:  4.01\n",
      "FTNT Return:  0.3 Z score:  7.0\n",
      "------------------------------------------------------\n",
      "Portfolio Return was:  -0.06 for Fiscal Year:  2011\n",
      "CIE Return:  0.19 Z score:  9.74\n",
      "LH Return:  0.01 Z score:  7.18\n",
      "ODFL Return:  0.22 Z score:  7.74\n",
      "RAVE Return:  -0.08 Z score:  13.32\n",
      "OLED Return:  -0.27 Z score:  18.73\n",
      "ALXN Return:  0.0 Z score:  11.97\n",
      "MITK Return:  -0.69 Z score:  17.02\n",
      "SAVA Return:  -0.32 Z score:  5.12\n",
      "MELI Return:  -0.19 Z score:  9.69\n",
      "BSTC Return:  -0.24 Z score:  20.75\n",
      "VMW Return:  -0.27 Z score:  8.19\n",
      "AMT Return:  0.23 Z score:  3.7\n",
      "Joe Return:  0.37 Z score:  4.16\n",
      "CLR Return:  -0.11 Z score:  5.37\n",
      "RHT Return:  -0.15 Z score:  6.5\n",
      "ALKS Return:  0.13 Z score:  9.36\n",
      "FTNT Return:  -0.1 Z score:  7.53\n",
      "TRC Return:  0.01 Z score:  20.89\n",
      "SPG Return:  0.15 Z score:  3.66\n",
      "TECH Return:  -0.06 Z score:  29.24\n",
      "------------------------------------------------------\n",
      "Portfolio Return was:  0.36 for Fiscal Year:  2012\n",
      "CIE Return:  -0.23 Z score:  7.88\n",
      "INFI Return:  -0.68 Z score:  17.9\n",
      "ODFL Return:  0.48 Z score:  7.81\n",
      "RGLS Return:  0.66 Z score:  6.58\n",
      "RAVE Return:  1.04 Z score:  11.43\n",
      "SRNE Return:  2.32 Z score:  8.8\n",
      "SRCI Return:  -0.09 Z score:  9.29\n",
      "RYN Return:  -0.14 Z score:  6.23\n",
      "OLED Return:  0.2 Z score:  16.32\n",
      "ALXN Return:  1.19 Z score:  10.5\n",
      "Joe Return:  -0.11 Z score:  9.64\n",
      "REGN Return:  0.93 Z score:  8.75\n",
      "LNG Return:  1.38 Z score:  3.76\n",
      "CPRI Return:  -0.52 Z score:  11.93\n",
      "TIVO Return:  -0.09 Z score:  6.77\n",
      "BMRN Return:  0.48 Z score:  5.95\n",
      "TRC Return:  0.16 Z score:  22.22\n",
      "AVB Return:  0.0 Z score:  4.38\n",
      "ICE Return:  0.13 Z score:  4.0\n",
      "SPG Return:  0.01 Z score:  3.61\n",
      "------------------------------------------------------\n",
      "Portfolio Return was:  0.14 for Fiscal Year:  2013\n",
      "CIE Return:  -0.5 Z score:  5.31\n",
      "MEIP Return:  -0.23 Z score:  20.58\n",
      "ODFL Return:  0.48 Z score:  8.45\n",
      "RGLS Return:  0.61 Z score:  8.49\n",
      "NLNK Return:  0.66 Z score:  4.56\n",
      "SRNE Return:  -0.1 Z score:  5.15\n",
      "CVSI Return:  -0.95 Z score:  5.95\n",
      "ITCI Return:  0.22 Z score:  3.96\n",
      "NVAX Return:  0.57 Z score:  6.29\n",
      "LNG Return:  0.5 Z score:  3.66\n",
      "REI Return:  -0.33 Z score:  17.71\n",
      "SPLK Return:  -0.18 Z score:  7.83\n",
      "NOW Return:  0.09 Z score:  5.51\n",
      "ALXN Return:  0.04 Z score:  10.52\n",
      "BMRN Return:  0.33 Z score:  6.03\n",
      "FEYE Return:  -0.39 Z score:  5.72\n",
      "GPOR Return:  -0.28 Z score:  8.34\n",
      "AGIO Return:  2.74 Z score:  6.39\n",
      "ACRX Return:  -0.69 Z score:  5.47\n",
      "REGN Return:  0.29 Z score:  10.2\n",
      "------------------------------------------------------\n",
      "Portfolio Return was:  -0.32 for Fiscal Year:  2014\n",
      "INFI Return:  -0.63 Z score:  5.47\n",
      "MEIP Return:  -0.74 Z score:  7.62\n",
      "ODFL Return:  -0.18 Z score:  9.22\n",
      "RGLS Return:  -0.53 Z score:  6.87\n",
      "ITCI Return:  0.09 Z score:  17.44\n",
      "ONVO Return:  -0.09 Z score:  26.01\n",
      "SQBG Return:  -0.27 Z score:  4.53\n",
      "ALNY Return:  -0.35 Z score:  8.64\n",
      "SRNE Return:  -0.59 Z score:  6.44\n",
      "EGLT Return:  -0.24 Z score:  3.1\n",
      "LNG Return:  -0.59 Z score:  3.68\n",
      "AGIO Return:  -0.64 Z score:  11.95\n",
      "OPHT Return:  -0.02 Z score:  6.62\n",
      "VSLR Return:  -0.14 Z score:  6.55\n",
      "FPRX Return:  0.32 Z score:  4.43\n",
      "BMRN Return:  -0.23 Z score:  6.62\n",
      "TWTR Return:  -0.62 Z score:  8.13\n",
      "BSTC Return:  -0.02 Z score:  52.17\n",
      "EPM Return:  -0.43 Z score:  11.16\n",
      "EPZM Return:  -0.55 Z score:  9.72\n",
      "------------------------------------------------------\n",
      "Portfolio Return was:  0.25 for Fiscal Year:  2015\n",
      "AGR Return:  -0.04 Z score:  4.63\n",
      "AXON Return:  0.73 Z score:  22.22\n",
      "MEIP Return:  -0.03 Z score:  10.61\n",
      "ODFL Return:  0.43 Z score:  9.15\n",
      "RGLS Return:  -0.86 Z score:  9.4\n",
      "STML Return:  0.9 Z score:  9.07\n",
      "ACAD Return:  1.14 Z score:  3.79\n",
      "ITCI Return:  -0.58 Z score:  70.51\n",
      "NK Return:  -0.21 Z score:  36.29\n",
      "ONVO Return:  -0.09 Z score:  9.45\n",
      "EPZM Return:  0.58 Z score:  5.02\n",
      "BLUE Return:  0.52 Z score:  10.12\n",
      "SQBG Return:  -0.35 Z score:  4.26\n",
      "ZYNE Return:  3.04 Z score:  16.11\n",
      "V Return:  0.01 Z score:  9.83\n",
      "CTMX Return:  -0.05 Z score:  7.72\n",
      "BMRN Return:  0.13 Z score:  5.16\n",
      "IONS Return:  0.31 Z score:  4.13\n",
      "Joe Return:  0.03 Z score:  6.77\n",
      "NVCR Return:  -0.55 Z score:  7.14\n",
      "------------------------------------------------------\n",
      "Portfolio Return was:  0.38 for Fiscal Year:  2016\n",
      "AGR Return:  0.14 Z score:  4.59\n",
      "ALPN Return:  0.04 Z score:  11.29\n",
      "KPTI Return:  0.64 Z score:  6.05\n",
      "NERV Return:  -0.31 Z score:  6.23\n",
      "ODFL Return:  0.54 Z score:  9.04\n",
      "OLED Return:  0.85 Z score:  13.01\n",
      "ZYNE Return:  -0.57 Z score:  4.53\n",
      "BGNE Return:  3.61 Z score:  11.81\n",
      "NK Return:  0.17 Z score:  13.45\n",
      "ITCI Return:  0.36 Z score:  34.36\n",
      "BLUE Return:  1.7 Z score:  7.41\n",
      "ACAD Return:  -0.31 Z score:  13.15\n",
      "TSRO Return:  -0.63 Z score:  5.43\n",
      "EPZM Return:  0.13 Z score:  5.74\n",
      "ONVO Return:  -0.67 Z score:  5.27\n",
      "SQBG Return:  -0.29 Z score:  4.19\n",
      "FPRX Return:  -0.59 Z score:  14.81\n",
      "CRSP Return:  1.5 Z score:  10.23\n",
      "CTMX Return:  1.55 Z score:  4.01\n",
      "INCY Return:  -0.27 Z score:  3.72\n",
      "------------------------------------------------------\n",
      "Portfolio Return was:  -0.09 for Fiscal Year:  2017\n",
      "AGR Return:  0.01 Z score:  4.27\n",
      "ALPN Return:  -0.22 Z score:  21.53\n",
      "NERV Return:  0.52 Z score:  5.86\n",
      "ODFL Return:  0.07 Z score:  10.29\n",
      "OLED Return:  -0.17 Z score:  14.45\n",
      "ZYNE Return:  -0.47 Z score:  10.03\n",
      "NK Return:  -0.74 Z score:  4.35\n",
      "ITCI Return:  -0.25 Z score:  33.24\n",
      "SPCE Return:  0.01 Z score:  30.6\n",
      "BGNE Return:  -0.11 Z score:  8.4\n",
      "BLUE Return:  -0.35 Z score:  10.86\n",
      "ZGNX Return:  0.2 Z score:  3.92\n",
      "EPZM Return:  -0.32 Z score:  5.03\n",
      "XNCR Return:  0.06 Z score:  7.36\n",
      "FGEN Return:  -0.04 Z score:  6.54\n",
      "ADRO Return:  -0.31 Z score:  5.28\n",
      "SNAP Return:  -0.49 Z score:  3.14\n",
      "LGND Return:  -0.18 Z score:  3.52\n",
      "EXAS Return:  0.73 Z score:  8.83\n",
      "V Return:  0.27 Z score:  6.76\n",
      "------------------------------------------------------\n",
      "Portfolio Return was:  0.05 for Fiscal Year:  2018\n",
      "ADIL Return:  -0.66 Z score:  4.15\n",
      "AGR Return:  0.03 Z score:  4.38\n",
      "ALPN Return:  -0.63 Z score:  5.82\n",
      "ITCI Return:  0.55 Z score:  9.33\n",
      "MOS Return:  -0.63 Z score:  7.02\n",
      "ODFL Return:  0.34 Z score:  11.01\n",
      "OLED Return:  0.43 Z score:  10.59\n",
      "OPHT Return:  2.53 Z score:  11.7\n",
      "ZGNX Return:  -0.57 Z score:  7.53\n",
      "ZYNE Return:  -0.25 Z score:  5.21\n",
      "BGNE Return:  0.13 Z score:  8.31\n",
      "TLRY Return:  -0.79 Z score:  7.76\n",
      "ARNA Return:  -0.13 Z score:  6.71\n",
      "BLUE Return:  -0.38 Z score:  8.59\n",
      "ALNY Return:  0.54 Z score:  3.23\n",
      "AC Return:  -0.1 Z score:  30.33\n",
      "EPZM Return:  0.7 Z score:  4.49\n",
      "MDB Return:  -0.08 Z score:  4.33\n",
      "FGEN Return:  -0.29 Z score:  6.05\n",
      "OKTA Return:  0.35 Z score:  4.11\n",
      "------------------------------------------------------\n"
     ]
    }
   ],
   "source": [
    "ann_returns=[]\n",
    "indx_rtn, indx_rtns=1, []\n",
    "\n",
    "for yr in range(2008,2019):\n",
    "    #indx = getBestStocksForYear(yr, x) # Pick Low P/S stocks WITHOUT bankruptcy consideration\n",
    "    indx = getBestStocksForYearAboveZScore(yr, x, 3) # Pick Low P/S stocks WITH bankruptcy consideration\n",
    "    #print(x.loc[indx]['Publish Date'])\n",
    "    port_return = y_perf.loc[indx]['Perf'].mean()\n",
    "    print('Portfolio Return was: ', round(port_return,2), 'for Fiscal Year: ',yr)\n",
    "    indx_rtn = indx_rtn*(1+port_return)\n",
    "    indx_rtns.append(indx_rtn) \n",
    "    ann_returns.append(port_return)\n",
    "    for ii in indx:\n",
    "        print(y_perf.loc[ii]['Ticker'], 'Return: ', round(y_perf.loc[ii]['Perf'],2), 'Z score: ', round(x.loc[ii]['Z score'],2))\n",
    "    print('------------------------------------------------------')"
   ]
  },
  {
   "cell_type": "code",
   "execution_count": 83,
   "metadata": {},
   "outputs": [
    {
     "data": {
      "text/plain": [
       "Text(0.5, 1.0, 'Low P/S Strategy - Annual Portfolio Performance\\n Z Score Cutoff of 3')"
      ]
     },
     "execution_count": 83,
     "metadata": {},
     "output_type": "execute_result"
    },
    {
     "data": {
      "image/png": "[encoded data removed]",
      "text/plain": [
       "<Figure size 432x288 with 1 Axes>"
      ]
     },
     "metadata": {
      "needs_background": "light"
     },
     "output_type": "display_data"
    }
   ],
   "source": [
    "plt.plot(range(2009,2020),indx_rtns,'x--')\n",
    "plt.grid()\n",
    "plt.ylabel('Indexed Return')\n",
    "plt.xlabel('Year')\n",
    "plt.title('Low P/S Strategy - Annual Portfolio Performance\\n Z Score Cutoff of 3',fontsize=15)"
   ]
  },
  {
   "cell_type": "code",
   "execution_count": 82,
   "metadata": {},
   "outputs": [
    {
     "data": {
      "text/plain": [
       "[1.3124284966435724,\n",
       " 1.850453736706596,\n",
       " 2.1055789046580333,\n",
       " 1.98240061052979,\n",
       " 2.6884546745576996,\n",
       " 3.074334901520505,\n",
       " 2.0793123207923663,\n",
       " 2.6068926198740097,\n",
       " 3.5979580519577503,\n",
       " 3.274846312531609,\n",
       " 3.4503770882091445]"
      ]
     },
     "execution_count": 82,
     "metadata": {},
     "output_type": "execute_result"
    }
   ],
   "source": [
    "indx_rtns"
   ]
  },
  {
   "cell_type": "code",
   "execution_count": null,
   "metadata": {},
   "outputs": [],
   "source": []
  }
 ],
 "metadata": {
  "kernelspec": {
   "display_name": "Python 3.7 (tensorflow)",
   "language": "python",
   "name": "tensorflow"
  },
  "language_info": {
   "codemirror_mode": {
    "name": "ipython",
    "version": 3
   },
   "file_extension": ".py",
   "mimetype": "text/x-python",
   "name": "python",
   "nbconvert_exporter": "python",
   "pygments_lexer": "ipython3",
   "version": "3.7.7"
  }
 },
 "nbformat": 4,
 "nbformat_minor": 4
}
